{
 "cells": [
  {
   "cell_type": "code",
   "execution_count": 28,
   "id": "7f376fa1",
   "metadata": {},
   "outputs": [
    {
     "name": "stdout",
     "output_type": "stream",
     "text": [
      "[34.86926068536492, 72.1747822590363, 79.96309450250213, 86.04002997421976, 30.28291945871115, 46.84988193248123]\n"
     ]
    }
   ],
   "source": [
    "import pandas as pd\n",
    "df = pd.read_csv (r'C:\\Kevin\\Applications\\OSGC Undergraduate scholarship\\corona_index\\indices\\all_indices.csv')\n",
    "start_row = 502945\n",
    "end_row = 505854\n",
    "num_types = 6\n",
    "#start date is 1/1/2020\n",
    "#end date is 4/29/2021\n",
    "stacked_policy = []\n",
    "for i in range(int((end_row-start_row+1)/6)):\n",
    "    date_start_row = start_row + num_types*i\n",
    "    info = df['med_est'].iloc[date_start_row:date_start_row+num_types].to_list()\n",
    "    stacked_policy.append(info)\n",
    "print(stacked_policy[-1])"
   ]
  },
  {
   "cell_type": "code",
   "execution_count": null,
   "id": "784a79c1",
   "metadata": {},
   "outputs": [],
   "source": []
  }
 ],
 "metadata": {
  "kernelspec": {
   "display_name": "Python 3 (ipykernel)",
   "language": "python",
   "name": "python3"
  },
  "language_info": {
   "codemirror_mode": {
    "name": "ipython",
    "version": 3
   },
   "file_extension": ".py",
   "mimetype": "text/x-python",
   "name": "python",
   "nbconvert_exporter": "python",
   "pygments_lexer": "ipython3",
   "version": "3.9.7"
  }
 },
 "nbformat": 4,
 "nbformat_minor": 5
}
