{
 "cells": [
  {
   "cell_type": "code",
   "execution_count": 1,
   "id": "33a44e12",
   "metadata": {},
   "outputs": [
    {
     "data": {
      "text/plain": [
       "'\\nCreated By Kevin Du for OSGC Scholarship Program. Credits to \"Neural network powered COVID-19 spread forecasting model\"by Michał Wieczorek, Jakub Siłka, Marcin Woźniak for architecture and data processing.\\n\\nhttps://doi.org/10.1016/j.chaos.2020.110203\\n\\n~~notes notes notes\\nPurpose:\\nIntended result:\\n\\n'"
      ]
     },
     "execution_count": 1,
     "metadata": {},
     "output_type": "execute_result"
    }
   ],
   "source": [
    "\"\"\"\n",
    "Created By Kevin Du for OSGC Scholarship Program. Credits to \"Neural network powered COVID-19 spread forecasting model\"\\\n",
    "by Michał Wieczorek, Jakub Siłka, Marcin Woźniak for architecture and data processing.\n",
    "\n",
    "https://doi.org/10.1016/j.chaos.2020.110203\n",
    "\n",
    "~~notes notes notes\n",
    "Purpose:\n",
    "Intended result:\n",
    "\n",
    "\"\"\""
   ]
  },
  {
   "cell_type": "code",
   "execution_count": 2,
   "id": "dc597c3c",
   "metadata": {},
   "outputs": [],
   "source": [
    "import tensorflow as tf\n",
    "from keras import layers\n",
    "import math\n",
    "import numpy as np\n",
    "import pandas as pd\n",
    "import csv\n",
    "import pprint"
   ]
  },
  {
   "cell_type": "code",
   "execution_count": 70,
   "id": "67f4750a",
   "metadata": {},
   "outputs": [],
   "source": [
    "##---------Import of data----------------\n",
    "\n",
    "#State/territory list (sorted alphabetically)\n",
    "statelist= [[] for _ in range(58)]\n",
    "\n",
    "#List of non-State and non-DC rows (start counting at 1)\n",
    "staterowlist=[4,11,15,16,41,46,54]\n",
    "\n",
    "#folderpath to \n",
    "folderpath = r\"C:\\Kevin\\Applications\\OSGC Undergraduate scholarship\\COVID-19\\COVID-19\\csse_covid_19_data\\csse_covid_19_daily_reports_us\" + \"\\\\\"\n",
    "\n",
    "with open(r\"C:\\Kevin\\Applications\\OSGC Undergraduate scholarship\\Date List.csv\") as file:\n",
    "    reader = csv.reader(file)\n",
    "    datelist = list(reader)\n",
    "datelist=datelist[0]\n",
    "\n",
    "#total count of days of data\n",
    "count=len(datelist)\n",
    "\n",
    "for i in range(0, count):\n",
    "    splitdate = datelist[i].split(\"/\")\n",
    "    datelist[i] = splitdate[0] + \"-\" + splitdate[1] + \"-20\" + splitdate[2]\n",
    "#print(datelist)\n",
    "\n",
    "#could optimize by adding the 'columns' as a row, then flipping everything with numpy\n",
    "\n",
    "#extract all the confirmed cases by date from all the data\n",
    "for date in datelist:\n",
    "    filepath = folderpath + date + \".csv\"\n",
    "    with open(filepath) as file:\n",
    "        reader = csv.reader(file)\n",
    "        data = list(reader)\n",
    "    for i in range(58):\n",
    "        statelist[i].append(data[i+1][5])\n",
    "    \n",
    "#Infection rates (Total cases) now stored in an array, with each row representing a state or region,\n",
    "#and each column representing a date for the infection\n",
    "    \n",
    "    \n",
    "#--------------Normalization of data------------   \n",
    "\n",
    "#Make numpy recognize that data is numerical\n",
    "statelist = np.array(statelist).astype(float)\n",
    "\n",
    "#Normalize by the highest infection rate\n",
    "#should maybe normalize by total population\n",
    "maxstatelist = np.amax(statelist, axis=1)\n",
    "statelist = statelist / maxstatelist[:,None]\n",
    "\n",
    "#Infection rates now in terms of (cases/max one day infection cases)\n",
    "\n",
    "\n",
    "#---------------Formatting of data---------------\n",
    "\n",
    "#number of days in a grouping\n",
    "time_step = 14\n",
    "\n",
    "#grouping of data\n",
    "gstatelist=[]\n",
    "\n",
    "# group data into a list of first by start date, then by state. \n",
    "# Ex. The first 58 column arrays are \n",
    "for i in range(time_step, count-1):\n",
    "    for j in range(58):\n",
    "        gstatelist.append(statelist[j,(i-time_step):i].tolist())\n",
    "        \n",
    "xtrain_set=gstatelist[:-90*58]\n",
    "xvalidation_set=gstatelist[-90*58:]\n",
    "\n",
    "ytrain_set=statelist[:,time_step+1:-90].flatten().tolist()\n",
    "yvalidation_set=statelist[:,-90:].flatten().tolist()\n",
    "\n",
    "#Test print lines to be removed when finished with first draft\n",
    "#print('shape of gstatelist is '+ str(len(gstatelist)) +', '+str(len(gstatelist[0])))\n",
    "#print('length of xtrain is '+ str(len(xtrain_set)))\n",
    "#print('length of ytrain is '+str(len(ytrain_set)))\n",
    "#print('length of xval is '+ str(len(xvalidation_set)))\n",
    "#print('length of yval is '+ str(len(yvalidation_set)))\n",
    "\n",
    "#Infection rates (input set) are now in sets of 14 days, with the last three months of data reserved for validation \n",
    "#(testing set will come from most recent data not included)\n",
    "#"
   ]
  },
  {
   "cell_type": "code",
   "execution_count": 78,
   "id": "1f984da2",
   "metadata": {},
   "outputs": [],
   "source": [
    "#hyperparameters\n",
    "#input_shape=(14,)\n",
    "#neuron\n",
    "\n",
    "\n",
    "\n",
    "model = tf.keras.models.Sequential()\n",
    "model.add(layers.Dense(units = 256, activation = 'tanh', input_shape = (14,)))\n",
    "#model.add(layers.Dropout(0.2))\n",
    "model.add(layers.Dense(units = 96, activation = 'tanh'))\n",
    "#model.add(layers.Dropout(0.2))\n",
    "model.add(layers.Dense(units = 48, activation = 'tanh'))\n",
    "model.add(layers.Dense(units = 28, activation = 'tanh'))\n",
    "model.add(layers.Dense(units = 48, activation = 'tanh'))\n",
    "model.add(layers.Dense(units = 12, activation = 'tanh'))\n",
    "model.add(layers.Dense(units = 6, activation = 'tanh'))\n",
    "model.add(layers.Dense(units = 1, activation = 'relu'))\n",
    "#need to find a better loss and metric for compiler for covid data- paper doesn't specify much past what is here\n",
    "model.compile(optimizer = 'Nadam', loss = 'mean_squared_error')\n",
    "\n",
    "\n"
   ]
  },
  {
   "cell_type": "code",
   "execution_count": 79,
   "id": "b0f1fb8c",
   "metadata": {},
   "outputs": [
    {
     "name": "stdout",
     "output_type": "stream",
     "text": [
      "963/963 [==============================] - 2s 2ms/step - loss: 0.0615\n",
      "164/164 [==============================] - 0s 986us/step - loss: 0.2312\n",
      "0.2312467247247696\n"
     ]
    }
   ],
   "source": [
    "\n",
    "model.fit(xtrain_set, ytrain_set, epochs =1)\n",
    "test_loss = model.evaluate(xvalidation_set, yvalidation_set)\n",
    "print(test_loss)"
   ]
  },
  {
   "cell_type": "code",
   "execution_count": null,
   "id": "2ab32d61",
   "metadata": {},
   "outputs": [],
   "source": []
  }
 ],
 "metadata": {
  "kernelspec": {
   "display_name": "Python 3",
   "language": "python",
   "name": "python3"
  },
  "language_info": {
   "codemirror_mode": {
    "name": "ipython",
    "version": 3
   },
   "file_extension": ".py",
   "mimetype": "text/x-python",
   "name": "python",
   "nbconvert_exporter": "python",
   "pygments_lexer": "ipython3",
   "version": "3.8.8"
  }
 },
 "nbformat": 4,
 "nbformat_minor": 5
}
