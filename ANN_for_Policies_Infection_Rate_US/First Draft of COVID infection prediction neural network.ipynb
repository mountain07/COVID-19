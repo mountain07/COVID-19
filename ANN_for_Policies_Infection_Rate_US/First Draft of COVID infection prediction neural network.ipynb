{
 "cells": [
  {
   "cell_type": "code",
   "execution_count": 2,
   "id": "33a44e12",
   "metadata": {},
   "outputs": [
    {
     "data": {
      "text/plain": [
       "'\\nCreated By Kevin Du for OSGC Scholarship Program. Credits to \"Neural network powered COVID-19 spread forecasting model\"by Michał Wieczorek, Jakub Siłka, Marcin Woźniak for architecture and data processing.\\n\\n~~notes notes notes\\n\\n\\n'"
      ]
     },
     "execution_count": 2,
     "metadata": {},
     "output_type": "execute_result"
    }
   ],
   "source": [
    "\"\"\"\n",
    "Created By Kevin Du for OSGC Scholarship Program. Credits to \"Neural network powered COVID-19 spread forecasting model\"\\\n",
    "by Michał Wieczorek, Jakub Siłka, Marcin Woźniak for architecture and data processing.\n",
    "\n",
    "https://doi.org/10.1016/j.chaos.2020.110203\n",
    "\n",
    "~~notes notes notes\n",
    "Purpose:\n",
    "Intended result:\n",
    "\n",
    "\"\"\""
   ]
  },
  {
   "cell_type": "code",
   "execution_count": 3,
   "id": "dc597c3c",
   "metadata": {},
   "outputs": [],
   "source": [
    "import tensorflow as tf\n",
    "from keras import layers\n",
    "import math\n",
    "import numpy as np\n",
    "import pandas as pd\n",
    "import csv\n",
    "import pprint"
   ]
  },
  {
   "cell_type": "code",
   "execution_count": 22,
   "id": "67f4750a",
   "metadata": {},
   "outputs": [
    {
     "name": "stdout",
     "output_type": "stream",
     "text": [
      "[[3.82837360e-03 4.04030702e-03 4.21883222e-03 ... 9.73275509e-01\n",
      "  9.86457141e-01 1.00000000e+00]\n",
      " [1.64496562e-03 1.67520396e-03 1.72358530e-03 ... 9.77774821e-01\n",
      "  9.77774821e-01 1.00000000e+00]\n",
      " [1.00000000e+00 0.00000000e+00 0.00000000e+00 ... 2.82326369e-03\n",
      "  2.82326369e-03 2.82326369e-03]\n",
      " ...\n",
      " [0.00000000e+00 1.73733537e-03 1.81979482e-03 ... 9.74178818e-01\n",
      "  9.88245263e-01 1.00000000e+00]\n",
      " [9.27435741e-06 2.89022702e-03 2.99730369e-03 ... 9.74692808e-01\n",
      "  9.86879314e-01 1.00000000e+00]\n",
      " [0.00000000e+00 2.29440083e-03 2.35280376e-03 ... 9.85324178e-01\n",
      "  9.93625737e-01 1.00000000e+00]]\n",
      "\n",
      "[[3.82837360e-03 4.04030702e-03 4.21883222e-03 ... 9.73275509e-01\n",
      "  9.86457141e-01 1.00000000e+00]\n",
      " [1.64496562e-03 1.67520396e-03 1.72358530e-03 ... 9.77774821e-01\n",
      "  9.77774821e-01 1.00000000e+00]\n",
      " [1.00000000e+00 0.00000000e+00 0.00000000e+00 ... 2.82326369e-03\n",
      "  2.82326369e-03 2.82326369e-03]\n",
      " ...\n",
      " [2.70314333e-03 4.56291115e-03 4.69511595e-03 ... 9.46529559e-01\n",
      "  9.73903552e-01 1.00000000e+00]\n",
      " [5.33971472e-05 6.90274772e-03 7.55751080e-03 ... 1.00000000e+00\n",
      "  1.00000000e+00 1.00000000e+00]\n",
      " [1.00000000e+00 7.74436090e-01 7.74436090e-01 ... 7.74436090e-01\n",
      "  7.74436090e-01 7.74436090e-01]]\n"
     ]
    }
   ],
   "source": [
    "##---------Import of data----------------\n",
    "\n",
    "#State/territory list (sorted alphabetically)\n",
    "statelist= [[] for _ in range(58)]\n",
    "\n",
    "#List of non-State and non-DC rows (start counting at 1)\n",
    "staterowlist=[4,11,15,16,41,46,54]\n",
    "\n",
    "#folderpath to \n",
    "folderpath = r\"C:\\Kevin\\Applications\\OSGC Undergraduate scholarship\\COVID-19\\COVID-19\\csse_covid_19_data\\csse_covid_19_daily_reports_us\" + \"\\\\\"\n",
    "\n",
    "with open(r\"C:\\Kevin\\Applications\\OSGC Undergraduate scholarship\\Date List.csv\") as file:\n",
    "    reader = csv.reader(file)\n",
    "    datelist = list(reader)\n",
    "datelist=datelist[0]\n",
    "\n",
    "for i in range(0, len(datelist)):\n",
    "    splitdate = datelist[i].split(\"/\")\n",
    "    datelist[i] = splitdate[0] + \"-\" + splitdate[1] + \"-20\" + splitdate[2]\n",
    "#print(datelist)\n",
    "\n",
    "#could optimize by adding the 'columns' as a row, then flipping everything with numpy\n",
    "\n",
    "#extract all the confirmed cases by date from all the data\n",
    "for date in datelist:\n",
    "    filepath = folderpath + date + \".csv\"\n",
    "    with open(filepath) as file:\n",
    "        reader = csv.reader(file)\n",
    "        data = list(reader)\n",
    "    for i in range(58):\n",
    "        statelist[i].append(data[i+1][5])\n",
    "    \n",
    "#Infection rates (Total cases) now stored in an array, with each row representing a state or region,\n",
    "#and each column representing a date for the infection\n",
    "    \n",
    "    \n",
    "#--------------Normalization of data------------   \n",
    "\n",
    "#Make numpy recognize that data is numerical\n",
    "statelist = np.array(statelist).astype(float)\n",
    "\n",
    "#Normalize by the highest infection rate\n",
    "#should maybe normalize by total population\n",
    "maxstatelist = np.amax(statelist, axis=1)\n",
    "statelist = statelist / maxstatelist[:,None]\n",
    "\n",
    "#Infection rates now in terms of (cases/max one day infection cases)\n",
    "\n",
    "\n",
    "#---------------Formatting of data---------------\n",
    "\n",
    "#number of days in a grouping\n",
    "time_step = 14\n",
    "\n",
    "#grouping of data\n",
    "print(statelist)\n",
    "print()\n",
    "print(statelist[:][:][:14])\n",
    "\n",
    "#Infection rates are now in sets of 14 days, with the last three months of data reserved for testing"
   ]
  },
  {
   "cell_type": "code",
   "execution_count": null,
   "id": "819df749",
   "metadata": {},
   "outputs": [],
   "source": [
    "#test\n"
   ]
  },
  {
   "cell_type": "code",
   "execution_count": 11,
   "id": "1f984da2",
   "metadata": {},
   "outputs": [],
   "source": [
    "#hyperparameters\n",
    "#input_shape=(784,)\n",
    "#neuron\n",
    "\n",
    "\n",
    "\n",
    "model = tf.keras.models.Sequential()\n",
    "model.add(layers.Dense(units = 256, activation = 'tanh', input_shape = (784,)))\n",
    "#model.add(layers.Dropout(0.2))\n",
    "model.add(layers.Dense(units = 96, activation = 'tanh'))\n",
    "#model.add(layers.Dropout(0.2))\n",
    "model.add(layers.Dense(units = 48, activation = 'tanh'))\n",
    "model.add(layers.Dense(units = 28, activation = 'tanh'))\n",
    "model.add(layers.Dense(units = 48, activation = 'tanh'))\n",
    "model.add(layers.Dense(units = 12, activation = 'tanh'))\n",
    "model.add(layers.Dense(units = 6, activation = 'tanh'))\n",
    "model.add(tf.keras.layers.Dense(units = 10, activation = 'softmax'))\n",
    "#model.add(layers.Dense(units = 1, activation = 'relu'))\n",
    "#need to find a better loss and metric for compiler for covid data- paper doesn't specify much past what is here\n",
    "model.compile(optimizer = 'RMSprop', loss = 'sparse_categorical_crossentropy', metrics = ['sparse_categorical_accuracy'])\n",
    "\n",
    "\n"
   ]
  },
  {
   "cell_type": "code",
   "execution_count": 12,
   "id": "b0f1fb8c",
   "metadata": {},
   "outputs": [
    {
     "name": "stdout",
     "output_type": "stream",
     "text": [
      "Epoch 1/5\n",
      "1875/1875 [==============================] - 6s 3ms/step - loss: 0.8129 - sparse_categorical_accuracy: 0.7703\n",
      "Epoch 2/5\n",
      "1875/1875 [==============================] - 5s 2ms/step - loss: 0.4770 - sparse_categorical_accuracy: 0.8461A: 2s - l\n",
      "Epoch 3/5\n",
      "1875/1875 [==============================] - 5s 2ms/step - loss: 0.4134 - sparse_categorical_accuracy: 0.8605\n",
      "Epoch 4/5\n",
      "1875/1875 [==============================] - 5s 3ms/step - loss: 0.3821 - sparse_categorical_accuracy: 0.8705\n",
      "Epoch 5/5\n",
      "1875/1875 [==============================] - 5s 3ms/step - loss: 0.3606 - sparse_categorical_accuracy: 0.8765\n",
      "313/313 [==============================] - 1s 2ms/step - loss: 0.4268 - sparse_categorical_accuracy: 0.8605\n"
     ]
    }
   ],
   "source": [
    "\n",
    "model.fit(X_train, y_train, epochs =5)\n",
    "test_loss, test_accuracy = model.evaluate(X_test, y_test)"
   ]
  },
  {
   "cell_type": "code",
   "execution_count": null,
   "id": "2ab32d61",
   "metadata": {},
   "outputs": [],
   "source": []
  }
 ],
 "metadata": {
  "kernelspec": {
   "display_name": "Python 3",
   "language": "python",
   "name": "python3"
  },
  "language_info": {
   "codemirror_mode": {
    "name": "ipython",
    "version": 3
   },
   "file_extension": ".py",
   "mimetype": "text/x-python",
   "name": "python",
   "nbconvert_exporter": "python",
   "pygments_lexer": "ipython3",
   "version": "3.8.8"
  }
 },
 "nbformat": 4,
 "nbformat_minor": 5
}
