{
 "cells": [
  {
   "cell_type": "code",
   "execution_count": 1,
   "id": "33a44e12",
   "metadata": {},
   "outputs": [
    {
     "data": {
      "text/plain": [
       "'\\nCreated By Kevin Du for OSGC Scholarship Program. Credits to \"Neural network powered COVID-19 spread forecasting model\"by Michał Wieczorek, Jakub Siłka, Marcin Woźniak for architecture and data processing.\\n\\nhttps://doi.org/10.1016/j.chaos.2020.110203\\n\\n~~notes notes notes\\nPurpose:\\nIntended result:\\nNotes: \\n    Normalizing by the maximum infection rate hides a lot of the explainability of the model. The maximum infection rate\\n    of a state heavily depends on the population density, conformity to mask mandates, infection policies, etc. which are now\\n    potentially hidden due to the normalization\\n    \\n    Accuracy is heavily dependent on how many total points taken - having data from different strains to predict the next\\n    infection rate increases the loss dramatically\\n'"
      ]
     },
     "execution_count": 1,
     "metadata": {},
     "output_type": "execute_result"
    }
   ],
   "source": [
    "\"\"\"\n",
    "Created By Kevin Du for OSGC Scholarship Program. Credits to \"Neural network powered COVID-19 spread forecasting model\"\\\n",
    "by Michał Wieczorek, Jakub Siłka, Marcin Woźniak for architecture and data processing.\n",
    "\n",
    "https://doi.org/10.1016/j.chaos.2020.110203\n",
    "\n",
    "~~notes notes notes\n",
    "Purpose:\n",
    "Intended result:\n",
    "Notes: \n",
    "    Normalizing by the maximum infection rate hides a lot of the explainability of the model. The maximum infection rate\n",
    "    of a state heavily depends on the population density, conformity to mask mandates, infection policies, etc. which are now\n",
    "    potentially hidden due to the normalization\n",
    "    \n",
    "    Accuracy is heavily dependent on how many total points taken - having data from different strains to predict the next\n",
    "    infection rate increases the loss dramatically\n",
    "\"\"\""
   ]
  },
  {
   "cell_type": "code",
   "execution_count": 2,
   "id": "dc597c3c",
   "metadata": {},
   "outputs": [],
   "source": [
    "import tensorflow as tf\n",
    "from keras import layers\n",
    "import math\n",
    "import numpy as np\n",
    "import pandas as pd\n",
    "import csv\n",
    "import pprint\n",
    "import matplotlib.pyplot as plt\n",
    "from functools import partial"
   ]
  },
  {
   "cell_type": "code",
   "execution_count": 3,
   "id": "67f4750a",
   "metadata": {},
   "outputs": [],
   "source": [
    "##---------Data Hyperparameters-------------\n",
    "#number of days in a grouping\n",
    "time_step = 14\n",
    "\n",
    "##---------Import of data----------------\n",
    "\n",
    "#State/territory list (sorted alphabetically)\n",
    "statelist= [[] for _ in range(58)]\n",
    "\n",
    "#Total number of regions we are tracking\n",
    "state_list_size = len(statelist)\n",
    "\n",
    "#List of non-State and non-DC rows (start counting at 1)\n",
    "staterowlist=[4,11,15,16,41,46,54]\n",
    "\n",
    "#folderpath to \n",
    "folderpath = r\"C:\\Kevin\\Applications\\OSGC Undergraduate scholarship\\COVID-19\\COVID-19\\csse_covid_19_data\\csse_covid_19_daily_reports_us\" + \"\\\\\"\n",
    "\n",
    "with open(r\"C:\\Kevin\\Applications\\OSGC Undergraduate scholarship\\Date List.csv\") as file:\n",
    "    reader = csv.reader(file)\n",
    "    datelist = list(reader)\n",
    "datelist=datelist[0]\n",
    "\n",
    "#total count of days of data\n",
    "count=len(datelist)\n",
    "\n",
    "for i in range(0, count):\n",
    "    splitdate = datelist[i].split(\"/\")\n",
    "    datelist[i] = splitdate[0] + \"-\" + splitdate[1] + \"-20\" + splitdate[2]\n",
    "#print(datelist)\n",
    "\n",
    "#could optimize by adding the 'columns' as a row, then flipping everything with numpy\n",
    "\n",
    "#extract all the confirmed cases by date from all the data\n",
    "for date in datelist:\n",
    "    filepath = folderpath + date + \".csv\"\n",
    "    with open(filepath) as file:\n",
    "        reader = csv.reader(file)\n",
    "        data = list(reader)\n",
    "    for i in range(58):\n",
    "        statelist[i].append(data[i+1][5])\n",
    "    \n",
    "#Infection rates (Total cases) now stored in an array, with each row [first index] representing a state or region,\n",
    "#and each column [second index] representing a date for the infection\n",
    "    \n",
    "    \n",
    "#--------------Normalization of data------------   \n",
    "\n",
    "#Make numpy recognize that data is numerical\n",
    "statelist = np.array(statelist).astype(float)\n",
    "\n",
    "#Normalize by the highest infection rate\n",
    "#should maybe normalize by total population\n",
    "maxstatelist = np.amax(statelist, axis=1)\n",
    "statelist = statelist / maxstatelist[:,None]\n",
    "\n",
    "#Infection rates now in terms of (cases/max) with max as the highest one day infection cases"
   ]
  },
  {
   "cell_type": "code",
   "execution_count": 9,
   "id": "635faef2",
   "metadata": {
    "scrolled": false
   },
   "outputs": [
    {
     "name": "stdout",
     "output_type": "stream",
     "text": [
      "621.0\n",
      "30798\n",
      "\n",
      "0\n",
      "19140\n",
      "shape of gstatelist is 36018, 14\n",
      "length of xtrain is 19140\n",
      "length of ytrain is 19140\n",
      "length of xval is 2262\n",
      "length of yval is 2262\n",
      "first xtrain looks like: [0.0038283736041626647, 0.00404030702157336, 0.004218832215549858, 0.004496538072846631, 0.004661491176052986, 0.004757539818426306, 0.004998705431341925, 0.005197066757982477, 0.005390208049711437, 0.005641813732450243, 0.005942487743358028, 0.006158597188697998, 0.006360090536285507, 0.006550099807067509]\n",
      "59th xtrain looks like: [0.00404030702157336, 0.004218832215549858, 0.004496538072846631, 0.004661491176052986, 0.004757539818426306, 0.004998705431341925, 0.005197066757982477, 0.005390208049711437, 0.005641813732450243, 0.005942487743358028, 0.006158597188697998, 0.006360090536285507, 0.006550099807067509, 0.006759945210513568]\n",
      "first ytrain looks like: 0.006759945210513568\n",
      "\n"
     ]
    }
   ],
   "source": [
    "#---------------Imposed Parameters to Match with Policy ANN\n",
    "#last number of days to use as test data\n",
    "test_size = 39\n",
    "#start index of training data [first number of days have incomplete data/are inaccurate]\n",
    "start_date=0\n",
    "#end index of the test set, -14 for queue of days required to have 14 days of infection rates for the ANN\n",
    "end_date=383-14\n",
    "\n",
    "#---------------Formatting of data---------------\n",
    "#grouping of data\n",
    "gstatelist=[]\n",
    "\n",
    "# group data into a list of first by start date, then by state. \n",
    "# Ex. The first 58 column arrays are the infection data for the first day of the 58 regions, in order\n",
    "for i in range(time_step, count-1):\n",
    "    for j in range(state_list_size):\n",
    "        gstatelist.append(statelist[j,(i-time_step):i].tolist())\n",
    "\n",
    "xtrain_set=gstatelist[start_date*state_list_size:(end_date-test_size)*state_list_size] \n",
    "xvalidation_set=gstatelist[(end_date-test_size)*state_list_size:end_date*state_list_size]\n",
    "\n",
    "ytrain_set=statelist[:,start_date+time_step:end_date+14-test_size].flatten('F').tolist()\n",
    "yvalidation_set=statelist[:,end_date+14-test_size:end_date+14].flatten('F').tolist()\n",
    "\n",
    "print(len(gstatelist)/58)\n",
    "print(len(gstatelist)-start_date*58-90*58)\n",
    "print()\n",
    "print(start_date*state_list_size)\n",
    "print((end_date-test_size)*state_list_size)\n",
    "\n",
    "#Test print lines to be removed when finished with first draft\n",
    "print('shape of gstatelist is '+ str(len(gstatelist)) +', '+str(len(gstatelist[0])))\n",
    "print('length of xtrain is '+ str(len(xtrain_set)))\n",
    "print('length of ytrain is '+str(len(ytrain_set)))\n",
    "print('length of xval is '+ str(len(xvalidation_set)))\n",
    "print('length of yval is '+ str(len(yvalidation_set)))\n",
    "\n",
    "print('first xtrain looks like: ' + str(xtrain_set[0]))\n",
    "print('59th xtrain looks like: ' + str(xtrain_set[58]))\n",
    "print('first ytrain looks like: ' + str(ytrain_set[0]))\n",
    "\n",
    "print()\n"
   ]
  },
  {
   "cell_type": "code",
   "execution_count": 6,
   "id": "82229fa2",
   "metadata": {},
   "outputs": [
    {
     "data": {
      "text/plain": [
       "\"df = pd.DataFrame(statelist,index =['Alabama','Alaska','American Samoa','Arizona','Arkansas','California',\\n                                        'Colorado','Connecticut','Delaware','Diamond Princess','District of Columbia',\\n                                        'Florida','Georgia','Grand Princess','Guam','Hawaii','Idaho','Illinois',\\n                                        'Indiana','Iowa','Kansas','Kentucky','Louisiana','Maine','Maryland','Massachusetts',\\n                                        'Michigan','Minnesota','Mississippi','Missouri','Montana','Nebraska','Nevada',\\n                                        'New Hampshire','New Jersey','New Mexico','New York','North Carolina','North Dakota',\\n                                        'Northern Mariana Islands','Ohio','Oklahoma','Oregon','Pennsylvania','Puerto Rico',\\n                                        'Rhode Island','South Carolina','South Dakota','Tennessee','Texas','Utah','Vermont',\\n                                        'Virgin Islands','Virginia','Washington','West Virginia','Wisconsin','Wyoming'])\""
      ]
     },
     "execution_count": 6,
     "metadata": {},
     "output_type": "execute_result"
    }
   ],
   "source": [
    "#df = pd.DataFrame(gstatelist)\n",
    "#print(df.iloc[:116].to_string())\n",
    "\n",
    "'''df = pd.DataFrame(statelist,index =['Alabama','Alaska','American Samoa','Arizona','Arkansas','California',\n",
    "                                        'Colorado','Connecticut','Delaware','Diamond Princess','District of Columbia',\n",
    "                                        'Florida','Georgia','Grand Princess','Guam','Hawaii','Idaho','Illinois',\n",
    "                                        'Indiana','Iowa','Kansas','Kentucky','Louisiana','Maine','Maryland','Massachusetts',\n",
    "                                        'Michigan','Minnesota','Mississippi','Missouri','Montana','Nebraska','Nevada',\n",
    "                                        'New Hampshire','New Jersey','New Mexico','New York','North Carolina','North Dakota',\n",
    "                                        'Northern Mariana Islands','Ohio','Oklahoma','Oregon','Pennsylvania','Puerto Rico',\n",
    "                                        'Rhode Island','South Carolina','South Dakota','Tennessee','Texas','Utah','Vermont',\n",
    "                                        'Virgin Islands','Virginia','Washington','West Virginia','Wisconsin','Wyoming'])'''\n",
    "#print(df.iloc[:,:15].to_string())\n",
    "\n",
    "#Infection rates (input set) are now in sets of 14 days, with the last three months of data reserved for validation \n",
    "#(testing set will come from most recent data not included)\n",
    "#"
   ]
  },
  {
   "cell_type": "code",
   "execution_count": 14,
   "id": "1f984da2",
   "metadata": {},
   "outputs": [],
   "source": [
    "#hyperparameters\n",
    "#input_shape=(14,)\n",
    "#neuron\n",
    "\n",
    "\n",
    "\n",
    "model = tf.keras.models.Sequential()\n",
    "model.add(layers.Dense(units = 256, activation = 'tanh', input_shape = (14,)))\n",
    "model.add(layers.Dropout(.2))\n",
    "model.add(layers.Dense(units = 96, activation = 'tanh'))\n",
    "model.add(layers.Dropout(.2))\n",
    "model.add(layers.Dense(units = 48, activation = 'tanh'))\n",
    "model.add(layers.Dense(units = 28, activation = 'tanh'))\n",
    "model.add(layers.Dense(units = 48, activation = 'tanh'))\n",
    "model.add(layers.Dense(units = 12, activation = 'tanh'))\n",
    "model.add(layers.Dense(units = 6, activation = 'tanh'))\n",
    "model.add(layers.Dense(units = 1, activation = 'relu'))\n",
    "#need to find a better loss and metric for compiler for covid data- paper doesn't specify much past what is here\n",
    "model.compile(optimizer = 'Nadam', loss = 'mean_squared_error')\n",
    "\n",
    "\n"
   ]
  },
  {
   "cell_type": "code",
   "execution_count": 39,
   "id": "b0f1fb8c",
   "metadata": {},
   "outputs": [
    {
     "name": "stdout",
     "output_type": "stream",
     "text": [
      "Epoch 1/10\n",
      "599/599 [==============================] - 1s 1ms/step - loss: 9.8374e-05\n",
      "Epoch 2/10\n",
      "599/599 [==============================] - 1s 1ms/step - loss: 8.8365e-05\n",
      "Epoch 3/10\n",
      "599/599 [==============================] - 1s 989us/step - loss: 8.5450e-05\n",
      "Epoch 4/10\n",
      "599/599 [==============================] - 1s 975us/step - loss: 8.1253e-05\n",
      "Epoch 5/10\n",
      "599/599 [==============================] - 1s 962us/step - loss: 8.2867e-05\n",
      "Epoch 6/10\n",
      "599/599 [==============================] - 1s 958us/step - loss: 8.3079e-05\n",
      "Epoch 7/10\n",
      "599/599 [==============================] - 1s 958us/step - loss: 6.9869e-05\n",
      "Epoch 8/10\n",
      "599/599 [==============================] - 1s 957us/step - loss: 8.5406e-05\n",
      "Epoch 9/10\n",
      "599/599 [==============================] - 1s 995us/step - loss: 8.9561e-05\n",
      "Epoch 10/10\n",
      "599/599 [==============================] - 1s 978us/step - loss: 6.0785e-05\n",
      "71/71 [==============================] - 0s 469us/step - loss: 5.2353e-05\n",
      "5.2353207138367e-05\n"
     ]
    }
   ],
   "source": [
    "# ANN without policy data fit\n",
    "model.fit(xtrain_set, ytrain_set, epochs =10)\n",
    "test_loss = model.evaluate(xvalidation_set, yvalidation_set)\n",
    "print(test_loss)"
   ]
  },
  {
   "cell_type": "code",
   "execution_count": 40,
   "id": "2ab32d61",
   "metadata": {},
   "outputs": [
    {
     "data": {
      "image/png": "[encoded data removed]",
      "text/plain": [
       "<Figure size 640x480 with 1 Axes>"
      ]
     },
     "metadata": {
      "needs_background": "light"
     },
     "output_type": "display_data"
    }
   ],
   "source": [
    "plt.figure(figsize=(8, 6), dpi=80)\n",
    "predictions = model.predict(xvalidation_set)\n",
    "plt.scatter(yvalidation_set,predictions, color='r', s=2)\n",
    "plt.xlabel('True Infection Rates (test set)')\n",
    "plt.ylabel('Non-Policy ANN Predicted Infection Rates (test set)')\n",
    "lims = [0, 1]\n",
    "plt.xlim(lims)\n",
    "plt.ylim(lims)\n",
    "_ = plt.plot(lims, lims)"
   ]
  },
  {
   "cell_type": "code",
   "execution_count": 41,
   "id": "784df84d",
   "metadata": {},
   "outputs": [
    {
     "data": {
      "text/plain": [
       "<matplotlib.collections.PathCollection at 0x2206483b340>"
      ]
     },
     "execution_count": 41,
     "metadata": {},
     "output_type": "execute_result"
    },
    {
     "data": {
      "image/png": "[encoded data removed]",
      "text/plain": [
       "<Figure size 640x480 with 1 Axes>"
      ]
     },
     "metadata": {
      "needs_background": "light"
     },
     "output_type": "display_data"
    }
   ],
   "source": [
    "plt.figure(figsize=(8, 6), dpi=80)\n",
    "xvalues = xtrain_set+xvalidation_set\n",
    "yvalues = ytrain_set+yvalidation_set\n",
    "index =list(range(int(len(xvalues)/state_list_size)))\n",
    "\n",
    "territory =19\n",
    "xstate=[]\n",
    "ystate=[]\n",
    "plt.xlabel('Days Since 4/12/2020')\n",
    "plt.ylabel('Infection Rate')\n",
    "for i in range(int(len(xvalues)/state_list_size)):\n",
    "    xstate.append(xvalues[territory+i*state_list_size])\n",
    "    ystate.append(yvalues[territory+i*state_list_size])\n",
    "\n",
    "plt.scatter(index, ystate, s=2)\n",
    "plt.scatter(index[-test_size:], ystate[-test_size:], s=2)\n",
    "\n",
    "predictions = model.predict(xstate)\n",
    "plt.scatter(index, predictions, s=2)"
   ]
  },
  {
   "cell_type": "code",
   "execution_count": null,
   "id": "1e1c525b",
   "metadata": {},
   "outputs": [],
   "source": []
  }
 ],
 "metadata": {
  "kernelspec": {
   "display_name": "Python 3 (ipykernel)",
   "language": "python",
   "name": "python3"
  },
  "language_info": {
   "codemirror_mode": {
    "name": "ipython",
    "version": 3
   },
   "file_extension": ".py",
   "mimetype": "text/x-python",
   "name": "python",
   "nbconvert_exporter": "python",
   "pygments_lexer": "ipython3",
   "version": "3.9.7"
  }
 },
 "nbformat": 4,
 "nbformat_minor": 5
}
